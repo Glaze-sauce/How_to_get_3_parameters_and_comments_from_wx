{
 "cells": [
  {
   "cell_type": "markdown",
   "metadata": {},
   "source": [
    "# 以下代码操作需要基于抓包软件 Fiddler Classic\n",
    "\n",
    "https://www.telerik.com/download/fiddler"
   ]
  },
  {
   "cell_type": "code",
   "execution_count": 1,
   "metadata": {},
   "outputs": [],
   "source": [
    "# 初始化 Jupyter Notebook\n",
    "from IPython.core.interactiveshell import InteractiveShell\n",
    "InteractiveShell.ast_node_interactivity=\"all\"\n",
    "# %matplotlib inline\n",
    "# from matplotlib import pyplot as plt\n",
    "# plt.rcParams[\"font.sans-serif\"] = [\"SimHei\"]"
   ]
  },
  {
   "cell_type": "code",
   "execution_count": 2,
   "metadata": {},
   "outputs": [],
   "source": [
    "import emoji\n",
    "import requests\n",
    "import pandas as pd\n",
    "from selenium import webdriver\n",
    "from selenium.webdriver.common.by import By"
   ]
  },
  {
   "cell_type": "markdown",
   "metadata": {},
   "source": [
    "# 设置请求需要带上的 headers"
   ]
  },
  {
   "cell_type": "code",
   "execution_count": 4,
   "metadata": {},
   "outputs": [],
   "source": [
    "headers = {\n",
    "    \"User-Agent\": \"Mozilla/5.0 (Windows NT 6.1; WOW64) AppleWebKit/537.36 (KHTML, like Gecko) Chrome/81.0.4044.138 Safari/537.36 NetType/WIFI MicroMessenger/7.0.20.1781(0x6700143B) WindowsWechat(0x63060012)\",\n",
    "    \"Cookie\": \"你的cookie\"\n",
    "}"
   ]
  },
  {
   "cell_type": "markdown",
   "metadata": {},
   "source": [
    "# 打开微信电脑客户端\n",
    "1. 开启 Fiddler Classic 抓包\n",
    "1. 随便找一篇公众号推文点进去\n",
    "1. 点开文章后查看 Fiddler Classic 的抓包 url (一般是蓝色)"
   ]
  },
  {
   "cell_type": "code",
   "execution_count": 70,
   "metadata": {},
   "outputs": [],
   "source": [
    "# 这个 url 是微信公众文章的 url ,里面含有很多信息.\n",
    "# 必须用微信客户端打开,只能用 Fiddler 抓取到.\n",
    "# 并且,这个 url 的 `key` 和 `export_key` 关键字会定时变换,和下面的 `appmsg_token` 要记得更新\n",
    "url = \"https://mp.weixin.qq.com/s?__biz=MzIyMDAyMzg2NA==&mid=2247502017&idx=1&sn=cc0d77ed0b4ecc6d1ed028c496b7f088&chksm=97d0d596a0a75c80010af6e0c8186d216efb8776c295ee1f928f8cf0531be665459f48533f18&scene=20&xtrack=1&key=5115e9b6036e2f42eb2062e05c25949fc1e75962915c5fa2640e8b5adf16ad7cb5ffacd40057c031f95bc9f4d5df325bca2eb14c785c01ddaaf849d6df6fbc1db4c0d019026e91d26bf7e4edc4ac16e006a0c8fa8eda1a8c8f032cea2ba17d1cf2cd09f15de8331536492f1efe95a3e3f69146dea3f00ec54c1f16cd37cb405b&ascene=51&uin=NTMyMDg4NDIz&devicetype=Windows+10+x64&version=63060012&lang=zh_CN&session_us=gh_ede3aa4af2f7&exportkey=A27ub8i77llM2QuBmR4f580%3D&acctmode=0&pass_ticket=xZe7PPe%2FlNG6huc41mX8Lrd873Bm0WlC1CWbxp5Q1s0dm2it3PSEYfBGg974VFBr&wx_header=0&fontgear=2\"\n",
    "# 这个是\"个人安全\"意义的 token ,几十分钟内有效\n",
    "appmsg_token = \"1166_9KvxxxxxxxxxxxxxxxxxxxxxxxxxxxxxxxxxVwr--u0\""
   ]
  },
  {
   "cell_type": "markdown",
   "metadata": {},
   "source": [
    "# 获取关键数据"
   ]
  },
  {
   "cell_type": "code",
   "execution_count": null,
   "metadata": {},
   "outputs": [],
   "source": [
    "# 直接用 split 方法拿出url里的关键信息 `__biz`\n",
    "__biz = url.split(\"&\")[0].split(\"__biz=\")[1]\n",
    "__biz\n",
    "# 将剩余的参数拿出来并做成一个字典 `parameters -> dict()`\n",
    "parameters = dict([i.split(\"=\") for i in url.split(\"&\")[1:]])\n",
    "parameters\n",
    "# 访问时需要用到发出这个关键数据来获得响应\n",
    "appmsgext_data = {\n",
    "    \"uin\": parameters[\"uin\"],\n",
    "    \"key\": parameters[\"key\"],\n",
    "    \"is_only_read\": \"1\",\n",
    "    # 下面这三个可有可无,先注释掉.\n",
    "    # \"pass_ticket\": parameters[\"pass_ticket\"],\n",
    "    # \"is_temp_url\": \"0\",\n",
    "    # \"appmsg_type\": \"9\"\n",
    "}\n",
    "\n",
    "###### 阅读量, 点赞量, 在看量 ######\n",
    "# 阅读量, 点赞量, 在看量都在这个 **额外加载的** 页面上\n",
    "appmsgext_base = \"https://mp.weixin.qq.com/mp/getappmsgext?\"\n",
    "# 一个公众号一个 `__biz`, 一篇文章一个 `mid`, `sn`, 然后用 format 方法拼接url\n",
    "# 这里的拼接只需要关键参数\n",
    "# 何为关键？就是在浏览器删掉一个参数后无法看到数据的，就是关键的。\n",
    "appmsgext_url = appmsgext_base + \"__biz={}&mid={}&sn={}&idx={}&appmsg_token={}\".format(__biz, parameters[\"mid\"], parameters[\"sn\"], parameters[\"idx\"], appmsg_token)\n",
    "# 注意是 requests.post\n",
    "three = requests.post(appmsgext_url, headers=headers, data=appmsgext_data).json()\n",
    "print(\"阅读量 %d\\n点赞数 %d\\n在看数 %d\\n\"%(three[\"appmsgstat\"][\"read_num\"], three[\"appmsgstat\"][\"old_like_num\"],three[\"appmsgstat\"][\"like_num\"]))\n",
    "\n",
    "###### 用户评论 ######\n",
    "comment_base = \"https://mp.weixin.qq.com/mp/appmsg_comment?action=getcomment\"\n",
    "# 同样的，也是只需要关键参数.这里面的 `comment_id` 也是一篇文章一个，需要换\n",
    "comment_url = comment_base + \"&appmsgid={}&comment_id={}&limit={}&uin={}&key={}&__biz={}\".format(parameters[\"mid\"],\"2129903392402571268\",\"100\",parameters[\"uin\"],parameters[\"key\"],__biz)\n",
    "comment_url\n",
    "comment_data = {\n",
    "    \"offset\":\"0\",\n",
    "    \"business_id\":\"0\",\n",
    "    \"idx\":\"1\",\n",
    "    \"sessionid\":\"svr_f4617534cf2\",\n",
    "    \"enterid\":\"1653132238\",\n",
    "    \"pass_ticket\":\"xZe7PPe/lNG6huc41mX8Lrd873Bm0WlC1CWbxp5Q1s0dm2it3PSEYfBGg974VFBr\"\n",
    "}\n",
    "# 这里需要 requests.get\n",
    "comment = requests.get(comment_url, headers=headers).json()\n",
    "comment"
   ]
  },
  {
   "cell_type": "markdown",
   "metadata": {},
   "source": [
    "# 下面两段代码只是为了展示评论"
   ]
  },
  {
   "cell_type": "code",
   "execution_count": null,
   "metadata": {},
   "outputs": [],
   "source": [
    "for i in comment[\"elected_comment\"]:\n",
    "    print(i)"
   ]
  },
  {
   "cell_type": "code",
   "execution_count": null,
   "metadata": {},
   "outputs": [],
   "source": [
    "comment_relationship = {\n",
    "    \"id\": [],\n",
    "    \"content\": [],\n",
    "    \"like_num\": [],\n",
    "    \"reply_id\": [],\n",
    "    \"reply_content\": [],\n",
    "}\n",
    "for i in comment[\"elected_comment\"]:\n",
    "    comment_relationship[\"id\"].append(str(i[\"id\"]))\n",
    "    comment_relationship[\"content\"].append(i[\"content\"])\n",
    "    comment_relationship[\"like_num\"].append(str(i[\"like_num\"]))\n",
    "    if i[\"reply\"][\"reply_list\"] != []:\n",
    "        comment_relationship[\"reply_id\"].append(str(i[\"reply\"][\"reply_list\"][0][\"reply_id\"]))\n",
    "        comment_relationship[\"reply_content\"].append(i[\"reply\"][\"reply_list\"][0][\"content\"])\n",
    "    else:\n",
    "        comment_relationship[\"reply_id\"].append(None)\n",
    "        comment_relationship[\"reply_content\"].append(None)\n",
    "pd.DataFrame(comment_relationship)"
   ]
  }
 ],
 "metadata": {
  "interpreter": {
   "hash": "88279d2366fe020547cde40dd65aa0e3aa662a6ec1f3ca12d88834876c85e1a6"
  },
  "kernelspec": {
   "display_name": "Python 3.9.7 ('base')",
   "language": "python",
   "name": "python3"
  },
  "language_info": {
   "codemirror_mode": {
    "name": "ipython",
    "version": 3
   },
   "file_extension": ".py",
   "mimetype": "text/x-python",
   "name": "python",
   "nbconvert_exporter": "python",
   "pygments_lexer": "ipython3",
   "version": "3.9.7"
  },
  "toc": {
   "base_numbering": 1,
   "nav_menu": {},
   "number_sections": true,
   "sideBar": true,
   "skip_h1_title": false,
   "title_cell": "Table of Contents",
   "title_sidebar": "Contents",
   "toc_cell": false,
   "toc_position": {},
   "toc_section_display": true,
   "toc_window_display": false
  },
  "varInspector": {
   "cols": {
    "lenName": 16,
    "lenType": 16,
    "lenVar": 40
   },
   "kernels_config": {
    "python": {
     "delete_cmd_postfix": "",
     "delete_cmd_prefix": "del ",
     "library": "var_list.py",
     "varRefreshCmd": "print(var_dic_list())"
    },
    "r": {
     "delete_cmd_postfix": ") ",
     "delete_cmd_prefix": "rm(",
     "library": "var_list.r",
     "varRefreshCmd": "cat(var_dic_list()) "
    }
   },
   "types_to_exclude": [
    "module",
    "function",
    "builtin_function_or_method",
    "instance",
    "_Feature"
   ],
   "window_display": false
  }
 },
 "nbformat": 4,
 "nbformat_minor": 2
}
